{
 "cells": [
  {
   "cell_type": "code",
   "execution_count": 1,
   "id": "d5b05b89",
   "metadata": {},
   "outputs": [],
   "source": [
    "from sklearn import preprocessing \n",
    "from sklearn.naive_bayes import GaussianNB\n",
    "import pandas as pd\n",
    "from sklearn.model_selection import train_test_split\n",
    "from sklearn.metrics import confusion_matrix\n",
    "from sklearn import metrics\n",
    "import numpy as np"
   ]
  },
  {
   "cell_type": "code",
   "execution_count": 2,
   "id": "2b675b88",
   "metadata": {},
   "outputs": [],
   "source": [
    "from sklearn.preprocessing import LabelEncoder"
   ]
  },
  {
   "cell_type": "code",
   "execution_count": 26,
   "id": "801ced1f",
   "metadata": {},
   "outputs": [],
   "source": [
    "data=pd.read_csv('play_tennis.csv.xls')\n",
    "data_train=pd.read_csv('play_tennis.csv.xls')\n",
    "data_test=pd.read_csv('play_tennis.csv.xls')"
   ]
  },
  {
   "cell_type": "code",
   "execution_count": 27,
   "id": "e2f341c4",
   "metadata": {},
   "outputs": [
    {
     "data": {
      "text/html": [
       "<div>\n",
       "<style scoped>\n",
       "    .dataframe tbody tr th:only-of-type {\n",
       "        vertical-align: middle;\n",
       "    }\n",
       "\n",
       "    .dataframe tbody tr th {\n",
       "        vertical-align: top;\n",
       "    }\n",
       "\n",
       "    .dataframe thead th {\n",
       "        text-align: right;\n",
       "    }\n",
       "</style>\n",
       "<table border=\"1\" class=\"dataframe\">\n",
       "  <thead>\n",
       "    <tr style=\"text-align: right;\">\n",
       "      <th></th>\n",
       "      <th>day</th>\n",
       "      <th>outlook</th>\n",
       "      <th>temp</th>\n",
       "      <th>humidity</th>\n",
       "      <th>wind</th>\n",
       "      <th>play</th>\n",
       "    </tr>\n",
       "  </thead>\n",
       "  <tbody>\n",
       "    <tr>\n",
       "      <th>0</th>\n",
       "      <td>D1</td>\n",
       "      <td>Sunny</td>\n",
       "      <td>Hot</td>\n",
       "      <td>High</td>\n",
       "      <td>Weak</td>\n",
       "      <td>No</td>\n",
       "    </tr>\n",
       "    <tr>\n",
       "      <th>1</th>\n",
       "      <td>D2</td>\n",
       "      <td>Sunny</td>\n",
       "      <td>Hot</td>\n",
       "      <td>High</td>\n",
       "      <td>Strong</td>\n",
       "      <td>No</td>\n",
       "    </tr>\n",
       "    <tr>\n",
       "      <th>2</th>\n",
       "      <td>D3</td>\n",
       "      <td>Overcast</td>\n",
       "      <td>Hot</td>\n",
       "      <td>High</td>\n",
       "      <td>Weak</td>\n",
       "      <td>Yes</td>\n",
       "    </tr>\n",
       "    <tr>\n",
       "      <th>3</th>\n",
       "      <td>D4</td>\n",
       "      <td>Rain</td>\n",
       "      <td>Mild</td>\n",
       "      <td>High</td>\n",
       "      <td>Weak</td>\n",
       "      <td>Yes</td>\n",
       "    </tr>\n",
       "    <tr>\n",
       "      <th>4</th>\n",
       "      <td>D5</td>\n",
       "      <td>Rain</td>\n",
       "      <td>Cool</td>\n",
       "      <td>Normal</td>\n",
       "      <td>Weak</td>\n",
       "      <td>Yes</td>\n",
       "    </tr>\n",
       "  </tbody>\n",
       "</table>\n",
       "</div>"
      ],
      "text/plain": [
       "  day   outlook  temp humidity    wind play\n",
       "0  D1     Sunny   Hot     High    Weak   No\n",
       "1  D2     Sunny   Hot     High  Strong   No\n",
       "2  D3  Overcast   Hot     High    Weak  Yes\n",
       "3  D4      Rain  Mild     High    Weak  Yes\n",
       "4  D5      Rain  Cool   Normal    Weak  Yes"
      ]
     },
     "execution_count": 27,
     "metadata": {},
     "output_type": "execute_result"
    }
   ],
   "source": [
    "data.head()"
   ]
  },
  {
   "cell_type": "code",
   "execution_count": 29,
   "id": "b9a240d4",
   "metadata": {},
   "outputs": [],
   "source": [
    "le=LabelEncoder()"
   ]
  },
  {
   "cell_type": "code",
   "execution_count": 41,
   "id": "19f353bd",
   "metadata": {},
   "outputs": [],
   "source": [
    "objlist=['day','outlook','temp','humidity','wind']\n"
   ]
  },
  {
   "cell_type": "code",
   "execution_count": 42,
   "id": "017cbb29",
   "metadata": {},
   "outputs": [],
   "source": [
    "for feat in objlist:\n",
    "    data[feat]=le.fit_transform(data[feat].astype(str))"
   ]
  },
  {
   "cell_type": "code",
   "execution_count": 43,
   "id": "0ad5c742",
   "metadata": {},
   "outputs": [],
   "source": [
    "y=le.fit_transform(data['play'].astype(str))"
   ]
  },
  {
   "cell_type": "code",
   "execution_count": 44,
   "id": "867d1857",
   "metadata": {},
   "outputs": [],
   "source": [
    "X=data.iloc[:,:-1]"
   ]
  },
  {
   "cell_type": "code",
   "execution_count": 45,
   "id": "948c0378",
   "metadata": {},
   "outputs": [],
   "source": [
    "from sklearn.model_selection import train_test_split\n",
    "X_train,X_test,y_train,y_test=train_test_split(X,y,test_size=0.4,random_state=4)"
   ]
  },
  {
   "cell_type": "code",
   "execution_count": 52,
   "id": "03d8c722",
   "metadata": {},
   "outputs": [],
   "source": [
    "from sklearn.preprocessing import StandardScaler\n",
    "sc=StandardScaler()"
   ]
  },
  {
   "cell_type": "code",
   "execution_count": 53,
   "id": "1f0ff799",
   "metadata": {},
   "outputs": [],
   "source": [
    "X_train=sc.fit_transform(X_train)\n",
    "X_test=sc.fit_transform(X_test)"
   ]
  },
  {
   "cell_type": "code",
   "execution_count": 63,
   "id": "988d089d",
   "metadata": {
    "scrolled": true
   },
   "outputs": [
    {
     "data": {
      "text/plain": [
       "(array([[4.8, 3.4, 1.6, 0.2],\n",
       "        [5.7, 2.5, 5. , 2. ],\n",
       "        [6.3, 2.7, 4.9, 1.8],\n",
       "        [4.8, 3. , 1.4, 0.1],\n",
       "        [4.7, 3.2, 1.3, 0.2],\n",
       "        [6.5, 3. , 5.8, 2.2],\n",
       "        [4.6, 3.4, 1.4, 0.3],\n",
       "        [6.1, 3. , 4.9, 1.8],\n",
       "        [6.5, 3.2, 5.1, 2. ],\n",
       "        [6.7, 3.1, 4.4, 1.4],\n",
       "        [5.7, 2.8, 4.5, 1.3],\n",
       "        [6.7, 3.3, 5.7, 2.5],\n",
       "        [6. , 3. , 4.8, 1.8],\n",
       "        [5.1, 3.8, 1.6, 0.2],\n",
       "        [6. , 2.2, 4. , 1. ],\n",
       "        [6.4, 2.9, 4.3, 1.3],\n",
       "        [6.5, 3. , 5.5, 1.8],\n",
       "        [5. , 2.3, 3.3, 1. ],\n",
       "        [6.3, 3.3, 6. , 2.5],\n",
       "        [5.5, 2.5, 4. , 1.3],\n",
       "        [5.4, 3.7, 1.5, 0.2],\n",
       "        [4.9, 3.1, 1.5, 0.2],\n",
       "        [5.2, 4.1, 1.5, 0.1],\n",
       "        [6.7, 3.3, 5.7, 2.1],\n",
       "        [4.4, 3. , 1.3, 0.2],\n",
       "        [6. , 2.7, 5.1, 1.6],\n",
       "        [6.4, 2.7, 5.3, 1.9],\n",
       "        [5.9, 3. , 5.1, 1.8],\n",
       "        [5.2, 3.5, 1.5, 0.2],\n",
       "        [5.1, 3.3, 1.7, 0.5],\n",
       "        [5.8, 2.7, 4.1, 1. ],\n",
       "        [4.9, 3.1, 1.5, 0.1],\n",
       "        [7.4, 2.8, 6.1, 1.9],\n",
       "        [6.2, 2.9, 4.3, 1.3],\n",
       "        [7.6, 3. , 6.6, 2.1],\n",
       "        [6.7, 3. , 5.2, 2.3],\n",
       "        [6.3, 2.3, 4.4, 1.3],\n",
       "        [6.2, 3.4, 5.4, 2.3],\n",
       "        [7.2, 3.6, 6.1, 2.5],\n",
       "        [5.6, 2.9, 3.6, 1.3],\n",
       "        [5.7, 4.4, 1.5, 0.4],\n",
       "        [5.8, 2.7, 3.9, 1.2],\n",
       "        [4.5, 2.3, 1.3, 0.3],\n",
       "        [5.5, 2.4, 3.8, 1.1],\n",
       "        [6.9, 3.1, 4.9, 1.5],\n",
       "        [5. , 3.4, 1.6, 0.4],\n",
       "        [6.8, 2.8, 4.8, 1.4],\n",
       "        [5. , 3.5, 1.6, 0.6],\n",
       "        [4.8, 3.4, 1.9, 0.2],\n",
       "        [6.3, 3.4, 5.6, 2.4],\n",
       "        [5.6, 2.8, 4.9, 2. ],\n",
       "        [6.8, 3.2, 5.9, 2.3],\n",
       "        [5. , 3.3, 1.4, 0.2],\n",
       "        [5.1, 3.7, 1.5, 0.4],\n",
       "        [5.9, 3.2, 4.8, 1.8],\n",
       "        [4.6, 3.1, 1.5, 0.2],\n",
       "        [5.8, 2.7, 5.1, 1.9],\n",
       "        [4.8, 3.1, 1.6, 0.2],\n",
       "        [6.5, 3. , 5.2, 2. ],\n",
       "        [4.9, 2.5, 4.5, 1.7],\n",
       "        [4.6, 3.2, 1.4, 0.2],\n",
       "        [6.4, 3.2, 5.3, 2.3],\n",
       "        [4.3, 3. , 1.1, 0.1],\n",
       "        [5.6, 3. , 4.1, 1.3],\n",
       "        [4.4, 2.9, 1.4, 0.2],\n",
       "        [5.5, 2.4, 3.7, 1. ],\n",
       "        [5. , 2. , 3.5, 1. ],\n",
       "        [5.1, 3.5, 1.4, 0.2],\n",
       "        [4.9, 3. , 1.4, 0.2],\n",
       "        [4.9, 2.4, 3.3, 1. ],\n",
       "        [4.6, 3.6, 1. , 0.2],\n",
       "        [5.9, 3. , 4.2, 1.5],\n",
       "        [6.1, 2.9, 4.7, 1.4],\n",
       "        [5. , 3.4, 1.5, 0.2],\n",
       "        [6.7, 3.1, 4.7, 1.5],\n",
       "        [5.7, 2.9, 4.2, 1.3],\n",
       "        [6.2, 2.2, 4.5, 1.5],\n",
       "        [7. , 3.2, 4.7, 1.4],\n",
       "        [5.8, 2.7, 5.1, 1.9],\n",
       "        [5.4, 3.4, 1.7, 0.2],\n",
       "        [5. , 3. , 1.6, 0.2],\n",
       "        [6.1, 2.6, 5.6, 1.4],\n",
       "        [6.1, 2.8, 4. , 1.3],\n",
       "        [7.2, 3. , 5.8, 1.6],\n",
       "        [5.7, 2.6, 3.5, 1. ],\n",
       "        [6.3, 2.8, 5.1, 1.5],\n",
       "        [6.4, 3.1, 5.5, 1.8],\n",
       "        [6.3, 2.5, 4.9, 1.5],\n",
       "        [6.7, 3.1, 5.6, 2.4],\n",
       "        [4.9, 3.6, 1.4, 0.1]]),\n",
       " array([[5.8, 4. , 1.2, 0.2],\n",
       "        [5.1, 2.5, 3. , 1.1],\n",
       "        [6.6, 3. , 4.4, 1.4],\n",
       "        [5.4, 3.9, 1.3, 0.4],\n",
       "        [7.9, 3.8, 6.4, 2. ],\n",
       "        [6.3, 3.3, 4.7, 1.6],\n",
       "        [6.9, 3.1, 5.1, 2.3],\n",
       "        [5.1, 3.8, 1.9, 0.4],\n",
       "        [4.7, 3.2, 1.6, 0.2],\n",
       "        [6.9, 3.2, 5.7, 2.3],\n",
       "        [5.6, 2.7, 4.2, 1.3],\n",
       "        [5.4, 3.9, 1.7, 0.4],\n",
       "        [7.1, 3. , 5.9, 2.1],\n",
       "        [6.4, 3.2, 4.5, 1.5],\n",
       "        [6. , 2.9, 4.5, 1.5],\n",
       "        [4.4, 3.2, 1.3, 0.2],\n",
       "        [5.8, 2.6, 4. , 1.2],\n",
       "        [5.6, 3. , 4.5, 1.5],\n",
       "        [5.4, 3.4, 1.5, 0.4],\n",
       "        [5. , 3.2, 1.2, 0.2],\n",
       "        [5.5, 2.6, 4.4, 1.2],\n",
       "        [5.4, 3. , 4.5, 1.5],\n",
       "        [6.7, 3. , 5. , 1.7],\n",
       "        [5. , 3.5, 1.3, 0.3],\n",
       "        [7.2, 3.2, 6. , 1.8],\n",
       "        [5.7, 2.8, 4.1, 1.3],\n",
       "        [5.5, 4.2, 1.4, 0.2],\n",
       "        [5.1, 3.8, 1.5, 0.3],\n",
       "        [6.1, 2.8, 4.7, 1.2],\n",
       "        [6.3, 2.5, 5. , 1.9],\n",
       "        [6.1, 3. , 4.6, 1.4],\n",
       "        [7.7, 3. , 6.1, 2.3],\n",
       "        [5.6, 2.5, 3.9, 1.1],\n",
       "        [6.4, 2.8, 5.6, 2.1],\n",
       "        [5.8, 2.8, 5.1, 2.4],\n",
       "        [5.3, 3.7, 1.5, 0.2],\n",
       "        [5.5, 2.3, 4. , 1.3],\n",
       "        [5.2, 3.4, 1.4, 0.2],\n",
       "        [6.5, 2.8, 4.6, 1.5],\n",
       "        [6.7, 2.5, 5.8, 1.8],\n",
       "        [6.8, 3. , 5.5, 2.1],\n",
       "        [5.1, 3.5, 1.4, 0.3],\n",
       "        [6. , 2.2, 5. , 1.5],\n",
       "        [6.3, 2.9, 5.6, 1.8],\n",
       "        [6.6, 2.9, 4.6, 1.3],\n",
       "        [7.7, 2.6, 6.9, 2.3],\n",
       "        [5.7, 3.8, 1.7, 0.3],\n",
       "        [5. , 3.6, 1.4, 0.2],\n",
       "        [4.8, 3. , 1.4, 0.3],\n",
       "        [5.2, 2.7, 3.9, 1.4],\n",
       "        [5.1, 3.4, 1.5, 0.2],\n",
       "        [5.5, 3.5, 1.3, 0.2],\n",
       "        [7.7, 3.8, 6.7, 2.2],\n",
       "        [6.9, 3.1, 5.4, 2.1],\n",
       "        [7.3, 2.9, 6.3, 1.8],\n",
       "        [6.4, 2.8, 5.6, 2.2],\n",
       "        [6.2, 2.8, 4.8, 1.8],\n",
       "        [6. , 3.4, 4.5, 1.6],\n",
       "        [7.7, 2.8, 6.7, 2. ],\n",
       "        [5.7, 3. , 4.2, 1.2]]))"
      ]
     },
     "execution_count": 63,
     "metadata": {},
     "output_type": "execute_result"
    }
   ],
   "source": [
    "X_train,X_test"
   ]
  },
  {
   "cell_type": "code",
   "execution_count": 56,
   "id": "ca942ce5",
   "metadata": {
    "scrolled": true
   },
   "outputs": [
    {
     "data": {
      "text/plain": [
       "array([1, 0, 1, 1, 0, 0, 0, 1])"
      ]
     },
     "execution_count": 56,
     "metadata": {},
     "output_type": "execute_result"
    }
   ],
   "source": [
    "y_train"
   ]
  },
  {
   "cell_type": "code",
   "execution_count": 57,
   "id": "157def90",
   "metadata": {},
   "outputs": [
    {
     "data": {
      "text/plain": [
       "array([1, 1, 1, 1, 1, 0])"
      ]
     },
     "execution_count": 57,
     "metadata": {},
     "output_type": "execute_result"
    }
   ],
   "source": [
    "y_test"
   ]
  },
  {
   "cell_type": "code",
   "execution_count": 58,
   "id": "7cd6f6d7",
   "metadata": {},
   "outputs": [
    {
     "data": {
      "text/plain": [
       "GaussianNB()"
      ]
     },
     "execution_count": 58,
     "metadata": {},
     "output_type": "execute_result"
    }
   ],
   "source": [
    "from sklearn.naive_bayes import GaussianNB\n",
    "classifier=GaussianNB()\n",
    "classifier.fit(X_train,y_train)"
   ]
  },
  {
   "cell_type": "code",
   "execution_count": 59,
   "id": "56e9d400",
   "metadata": {},
   "outputs": [
    {
     "name": "stdout",
     "output_type": "stream",
     "text": [
      "[1 1 1 1 1 0]\n"
     ]
    }
   ],
   "source": [
    "y_pred=classifier.predict(X_test)\n",
    "print(y_test)"
   ]
  },
  {
   "cell_type": "code",
   "execution_count": 60,
   "id": "3bf62c7f",
   "metadata": {},
   "outputs": [],
   "source": [
    "from sklearn import metrics"
   ]
  },
  {
   "cell_type": "code",
   "execution_count": 61,
   "id": "c87a8c14",
   "metadata": {
    "scrolled": true
   },
   "outputs": [
    {
     "name": "stdout",
     "output_type": "stream",
     "text": [
      "The accuracy is 0.8333333333333334\n"
     ]
    }
   ],
   "source": [
    "accuracy_score=metrics.accuracy_score(y_test,y_pred)\n",
    "print(\"The accuracy is\",accuracy_score)"
   ]
  }
 ],
 "metadata": {
  "kernelspec": {
   "display_name": "Python 3",
   "language": "python",
   "name": "python3"
  },
  "language_info": {
   "codemirror_mode": {
    "name": "ipython",
    "version": 3
   },
   "file_extension": ".py",
   "mimetype": "text/x-python",
   "name": "python",
   "nbconvert_exporter": "python",
   "pygments_lexer": "ipython3",
   "version": "3.8.8"
  }
 },
 "nbformat": 4,
 "nbformat_minor": 5
}
